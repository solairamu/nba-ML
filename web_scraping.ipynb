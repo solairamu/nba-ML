{
 "cells": [
  {
   "cell_type": "code",
   "execution_count": 31,
   "id": "16aee926",
   "metadata": {},
   "outputs": [],
   "source": [
    "years = list(range(1991, 2024))"
   ]
  },
  {
   "cell_type": "code",
   "execution_count": 32,
   "id": "ebbb274d",
   "metadata": {},
   "outputs": [],
   "source": [
    "url_start = \"https://www.basketball-reference.com/awards/awards_{}.html\""
   ]
  },
  {
   "cell_type": "code",
   "execution_count": 33,
   "id": "f916c90b",
   "metadata": {},
   "outputs": [],
   "source": [
    "import requests\n",
    "import time\n",
    "from time import sleep\n",
    "\n",
    "for year in years:\n",
    "    url = url_start.format(year)\n",
    "    sleep(10)\n",
    "    data = requests.get(url)\n",
    "    \n",
    "    with open(\"mvp/{}.html\".format(year), \"w+\") as f:\n",
    "        f.write(data.text)"
   ]
  },
  {
   "cell_type": "code",
   "execution_count": null,
   "id": "6b2e4533",
   "metadata": {},
   "outputs": [],
   "source": []
  }
 ],
 "metadata": {
  "kernelspec": {
   "display_name": "Python 3 (ipykernel)",
   "language": "python",
   "name": "python3"
  },
  "language_info": {
   "codemirror_mode": {
    "name": "ipython",
    "version": 3
   },
   "file_extension": ".py",
   "mimetype": "text/x-python",
   "name": "python",
   "nbconvert_exporter": "python",
   "pygments_lexer": "ipython3",
   "version": "3.10.5"
  }
 },
 "nbformat": 4,
 "nbformat_minor": 5
}
